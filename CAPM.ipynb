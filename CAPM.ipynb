{
  "nbformat": 4,
  "nbformat_minor": 0,
  "metadata": {
    "colab": {
      "name": "CAPM.ipynb",
      "provenance": [],
      "collapsed_sections": []
    },
    "kernelspec": {
      "name": "python3",
      "display_name": "Python 3"
    }
  },
  "cells": [
    {
      "cell_type": "code",
      "metadata": {
        "id": "TMxtZdEjRjoc",
        "colab": {
          "base_uri": "https://localhost:8080/",
          "height": 87
        },
        "outputId": "d94b2db6-ceeb-461d-c6e8-e9068cb5bd94"
      },
      "source": [
        "import pandas as pd\n",
        "import seaborn as sns\n",
        "import plotly.express as px\n",
        "from copy import copy\n",
        "from scipy import stats\n",
        "import matplotlib.pyplot as plt\n",
        "import numpy as np\n",
        "import plotly.figure_factory as ff\n",
        "import plotly.graph_objects as go"
      ],
      "execution_count": null,
      "outputs": [
        {
          "output_type": "stream",
          "text": [
            "/usr/local/lib/python3.6/dist-packages/statsmodels/tools/_testing.py:19: FutureWarning:\n",
            "\n",
            "pandas.util.testing is deprecated. Use the functions in the public API at pandas.testing instead.\n",
            "\n"
          ],
          "name": "stderr"
        }
      ]
    },
    {
      "cell_type": "code",
      "metadata": {
        "id": "O-iq0rQVRysa",
        "colab": {
          "base_uri": "https://localhost:8080/",
          "height": 415
        },
        "outputId": "a640c031-0201-44bf-98bf-387a53420e1f"
      },
      "source": [
        "stocks_df = pd.read_csv(stock.csv')\n",
        "stocks_df = stocks_df.sort_values(by = ['Date'])\n",
        "stocks_df"
      ],
      "execution_count": null,
      "outputs": [
        {
          "output_type": "execute_result",
          "data": {
            "text/html": [
              "<div>\n",
              "<style scoped>\n",
              "    .dataframe tbody tr th:only-of-type {\n",
              "        vertical-align: middle;\n",
              "    }\n",
              "\n",
              "    .dataframe tbody tr th {\n",
              "        vertical-align: top;\n",
              "    }\n",
              "\n",
              "    .dataframe thead th {\n",
              "        text-align: right;\n",
              "    }\n",
              "</style>\n",
              "<table border=\"1\" class=\"dataframe\">\n",
              "  <thead>\n",
              "    <tr style=\"text-align: right;\">\n",
              "      <th></th>\n",
              "      <th>Date</th>\n",
              "      <th>AAPL</th>\n",
              "      <th>BA</th>\n",
              "      <th>T</th>\n",
              "      <th>MGM</th>\n",
              "      <th>AMZN</th>\n",
              "      <th>IBM</th>\n",
              "      <th>TSLA</th>\n",
              "      <th>GOOG</th>\n",
              "      <th>sp500</th>\n",
              "    </tr>\n",
              "  </thead>\n",
              "  <tbody>\n",
              "    <tr>\n",
              "      <th>0</th>\n",
              "      <td>2012-01-12</td>\n",
              "      <td>60.198570</td>\n",
              "      <td>75.510002</td>\n",
              "      <td>30.120001</td>\n",
              "      <td>12.130000</td>\n",
              "      <td>175.929993</td>\n",
              "      <td>180.550003</td>\n",
              "      <td>28.250000</td>\n",
              "      <td>313.644379</td>\n",
              "      <td>1295.500000</td>\n",
              "    </tr>\n",
              "    <tr>\n",
              "      <th>1</th>\n",
              "      <td>2012-01-13</td>\n",
              "      <td>59.972858</td>\n",
              "      <td>74.599998</td>\n",
              "      <td>30.070000</td>\n",
              "      <td>12.350000</td>\n",
              "      <td>178.419998</td>\n",
              "      <td>179.160004</td>\n",
              "      <td>22.790001</td>\n",
              "      <td>311.328064</td>\n",
              "      <td>1289.089966</td>\n",
              "    </tr>\n",
              "    <tr>\n",
              "      <th>2</th>\n",
              "      <td>2012-01-17</td>\n",
              "      <td>60.671429</td>\n",
              "      <td>75.239998</td>\n",
              "      <td>30.250000</td>\n",
              "      <td>12.250000</td>\n",
              "      <td>181.660004</td>\n",
              "      <td>180.000000</td>\n",
              "      <td>26.600000</td>\n",
              "      <td>313.116364</td>\n",
              "      <td>1293.670044</td>\n",
              "    </tr>\n",
              "    <tr>\n",
              "      <th>3</th>\n",
              "      <td>2012-01-18</td>\n",
              "      <td>61.301430</td>\n",
              "      <td>75.059998</td>\n",
              "      <td>30.330000</td>\n",
              "      <td>12.730000</td>\n",
              "      <td>189.440002</td>\n",
              "      <td>181.070007</td>\n",
              "      <td>26.809999</td>\n",
              "      <td>315.273285</td>\n",
              "      <td>1308.040039</td>\n",
              "    </tr>\n",
              "    <tr>\n",
              "      <th>4</th>\n",
              "      <td>2012-01-19</td>\n",
              "      <td>61.107143</td>\n",
              "      <td>75.559998</td>\n",
              "      <td>30.420000</td>\n",
              "      <td>12.800000</td>\n",
              "      <td>194.449997</td>\n",
              "      <td>180.520004</td>\n",
              "      <td>26.760000</td>\n",
              "      <td>318.590851</td>\n",
              "      <td>1314.500000</td>\n",
              "    </tr>\n",
              "    <tr>\n",
              "      <th>...</th>\n",
              "      <td>...</td>\n",
              "      <td>...</td>\n",
              "      <td>...</td>\n",
              "      <td>...</td>\n",
              "      <td>...</td>\n",
              "      <td>...</td>\n",
              "      <td>...</td>\n",
              "      <td>...</td>\n",
              "      <td>...</td>\n",
              "      <td>...</td>\n",
              "    </tr>\n",
              "    <tr>\n",
              "      <th>2154</th>\n",
              "      <td>2020-08-05</td>\n",
              "      <td>440.250000</td>\n",
              "      <td>174.279999</td>\n",
              "      <td>29.850000</td>\n",
              "      <td>16.719999</td>\n",
              "      <td>3205.030029</td>\n",
              "      <td>125.449997</td>\n",
              "      <td>1485.020020</td>\n",
              "      <td>1473.609985</td>\n",
              "      <td>3327.770020</td>\n",
              "    </tr>\n",
              "    <tr>\n",
              "      <th>2155</th>\n",
              "      <td>2020-08-06</td>\n",
              "      <td>455.609985</td>\n",
              "      <td>172.199997</td>\n",
              "      <td>29.840000</td>\n",
              "      <td>18.459999</td>\n",
              "      <td>3225.000000</td>\n",
              "      <td>126.120003</td>\n",
              "      <td>1489.579956</td>\n",
              "      <td>1500.099976</td>\n",
              "      <td>3349.159912</td>\n",
              "    </tr>\n",
              "    <tr>\n",
              "      <th>2156</th>\n",
              "      <td>2020-08-07</td>\n",
              "      <td>444.450012</td>\n",
              "      <td>170.020004</td>\n",
              "      <td>30.020000</td>\n",
              "      <td>19.030001</td>\n",
              "      <td>3167.459961</td>\n",
              "      <td>124.959999</td>\n",
              "      <td>1452.709961</td>\n",
              "      <td>1494.489990</td>\n",
              "      <td>3351.280029</td>\n",
              "    </tr>\n",
              "    <tr>\n",
              "      <th>2157</th>\n",
              "      <td>2020-08-10</td>\n",
              "      <td>450.910004</td>\n",
              "      <td>179.410004</td>\n",
              "      <td>30.200001</td>\n",
              "      <td>21.650000</td>\n",
              "      <td>3148.159912</td>\n",
              "      <td>127.110001</td>\n",
              "      <td>1418.569946</td>\n",
              "      <td>1496.099976</td>\n",
              "      <td>3360.469971</td>\n",
              "    </tr>\n",
              "    <tr>\n",
              "      <th>2158</th>\n",
              "      <td>2020-08-11</td>\n",
              "      <td>437.500000</td>\n",
              "      <td>180.130005</td>\n",
              "      <td>30.200001</td>\n",
              "      <td>21.500000</td>\n",
              "      <td>3080.669922</td>\n",
              "      <td>126.750000</td>\n",
              "      <td>1374.390015</td>\n",
              "      <td>1480.319946</td>\n",
              "      <td>3333.689941</td>\n",
              "    </tr>\n",
              "  </tbody>\n",
              "</table>\n",
              "<p>2159 rows × 10 columns</p>\n",
              "</div>"
            ],
            "text/plain": [
              "            Date        AAPL          BA  ...         TSLA         GOOG        sp500\n",
              "0     2012-01-12   60.198570   75.510002  ...    28.250000   313.644379  1295.500000\n",
              "1     2012-01-13   59.972858   74.599998  ...    22.790001   311.328064  1289.089966\n",
              "2     2012-01-17   60.671429   75.239998  ...    26.600000   313.116364  1293.670044\n",
              "3     2012-01-18   61.301430   75.059998  ...    26.809999   315.273285  1308.040039\n",
              "4     2012-01-19   61.107143   75.559998  ...    26.760000   318.590851  1314.500000\n",
              "...          ...         ...         ...  ...          ...          ...          ...\n",
              "2154  2020-08-05  440.250000  174.279999  ...  1485.020020  1473.609985  3327.770020\n",
              "2155  2020-08-06  455.609985  172.199997  ...  1489.579956  1500.099976  3349.159912\n",
              "2156  2020-08-07  444.450012  170.020004  ...  1452.709961  1494.489990  3351.280029\n",
              "2157  2020-08-10  450.910004  179.410004  ...  1418.569946  1496.099976  3360.469971\n",
              "2158  2020-08-11  437.500000  180.130005  ...  1374.390015  1480.319946  3333.689941\n",
              "\n",
              "[2159 rows x 10 columns]"
            ]
          },
          "metadata": {
            "tags": []
          },
          "execution_count": 15
        }
      ]
    },
    {
      "cell_type": "code",
      "metadata": {
        "id": "329hiIB9SUN_"
      },
      "source": [
        "# Function to normalize the prices based on the initial price\n",
        "def normalize(df):\n",
        "  x = df.copy()\n",
        "  for i in x.columns[1:]:\n",
        "    x[i] = x[i]/x[i][0]\n",
        "  return x"
      ],
      "execution_count": null,
      "outputs": []
    },
    {
      "cell_type": "code",
      "metadata": {
        "id": "RY-Ud9rLSUfs"
      },
      "source": [
        "# Function to calculate the daily returns \n",
        "def daily_return(df):\n",
        "\n",
        "  df_daily_return = df.copy()\n",
        "  \n",
        "  for i in df.columns[1:]:\n",
        "    \n",
        "    for j in range(1, len(df)):\n",
        "      \n",
        "      df_daily_return[i][j] = ((df[i][j]- df[i][j-1])/df[i][j-1]) * 100\n",
        "    \n",
        "    # set the value of first row to zero, as previous value is not available\n",
        "    df_daily_return[i][0] = 0\n",
        "  return df_daily_return"
      ],
      "execution_count": null,
      "outputs": []
    },
    {
      "cell_type": "code",
      "metadata": {
        "id": "SRVAKDHKUO4_",
        "colab": {
          "base_uri": "https://localhost:8080/",
          "height": 415
        },
        "outputId": "b9235959-58e4-4d69-927a-dfaf1b358792"
      },
      "source": [
        "# Daily returns of each stock \n",
        "stocks_daily_return = daily_return(stocks_df)\n",
        "stocks_daily_return"
      ],
      "execution_count": null,
      "outputs": [
        {
          "output_type": "execute_result",
          "data": {
            "text/html": [
              "<div>\n",
              "<style scoped>\n",
              "    .dataframe tbody tr th:only-of-type {\n",
              "        vertical-align: middle;\n",
              "    }\n",
              "\n",
              "    .dataframe tbody tr th {\n",
              "        vertical-align: top;\n",
              "    }\n",
              "\n",
              "    .dataframe thead th {\n",
              "        text-align: right;\n",
              "    }\n",
              "</style>\n",
              "<table border=\"1\" class=\"dataframe\">\n",
              "  <thead>\n",
              "    <tr style=\"text-align: right;\">\n",
              "      <th></th>\n",
              "      <th>Date</th>\n",
              "      <th>AAPL</th>\n",
              "      <th>BA</th>\n",
              "      <th>T</th>\n",
              "      <th>MGM</th>\n",
              "      <th>AMZN</th>\n",
              "      <th>IBM</th>\n",
              "      <th>TSLA</th>\n",
              "      <th>GOOG</th>\n",
              "      <th>sp500</th>\n",
              "    </tr>\n",
              "  </thead>\n",
              "  <tbody>\n",
              "    <tr>\n",
              "      <th>0</th>\n",
              "      <td>2012-01-12</td>\n",
              "      <td>0.000000</td>\n",
              "      <td>0.000000</td>\n",
              "      <td>0.000000</td>\n",
              "      <td>0.000000</td>\n",
              "      <td>0.000000</td>\n",
              "      <td>0.000000</td>\n",
              "      <td>0.000000</td>\n",
              "      <td>0.000000</td>\n",
              "      <td>0.000000</td>\n",
              "    </tr>\n",
              "    <tr>\n",
              "      <th>1</th>\n",
              "      <td>2012-01-13</td>\n",
              "      <td>-0.374946</td>\n",
              "      <td>-1.205144</td>\n",
              "      <td>-0.166006</td>\n",
              "      <td>1.813685</td>\n",
              "      <td>1.415339</td>\n",
              "      <td>-0.769869</td>\n",
              "      <td>-19.327430</td>\n",
              "      <td>-0.738516</td>\n",
              "      <td>-0.494792</td>\n",
              "    </tr>\n",
              "    <tr>\n",
              "      <th>2</th>\n",
              "      <td>2012-01-17</td>\n",
              "      <td>1.164812</td>\n",
              "      <td>0.857909</td>\n",
              "      <td>0.598603</td>\n",
              "      <td>-0.809717</td>\n",
              "      <td>1.815943</td>\n",
              "      <td>0.468852</td>\n",
              "      <td>16.717854</td>\n",
              "      <td>0.574410</td>\n",
              "      <td>0.355295</td>\n",
              "    </tr>\n",
              "    <tr>\n",
              "      <th>3</th>\n",
              "      <td>2012-01-18</td>\n",
              "      <td>1.038382</td>\n",
              "      <td>-0.239234</td>\n",
              "      <td>0.264463</td>\n",
              "      <td>3.918367</td>\n",
              "      <td>4.282725</td>\n",
              "      <td>0.594448</td>\n",
              "      <td>0.789470</td>\n",
              "      <td>0.688856</td>\n",
              "      <td>1.110793</td>\n",
              "    </tr>\n",
              "    <tr>\n",
              "      <th>4</th>\n",
              "      <td>2012-01-19</td>\n",
              "      <td>-0.316937</td>\n",
              "      <td>0.666134</td>\n",
              "      <td>0.296736</td>\n",
              "      <td>0.549882</td>\n",
              "      <td>2.644634</td>\n",
              "      <td>-0.303752</td>\n",
              "      <td>-0.186494</td>\n",
              "      <td>1.052283</td>\n",
              "      <td>0.493866</td>\n",
              "    </tr>\n",
              "    <tr>\n",
              "      <th>...</th>\n",
              "      <td>...</td>\n",
              "      <td>...</td>\n",
              "      <td>...</td>\n",
              "      <td>...</td>\n",
              "      <td>...</td>\n",
              "      <td>...</td>\n",
              "      <td>...</td>\n",
              "      <td>...</td>\n",
              "      <td>...</td>\n",
              "      <td>...</td>\n",
              "    </tr>\n",
              "    <tr>\n",
              "      <th>2154</th>\n",
              "      <td>2020-08-05</td>\n",
              "      <td>0.362467</td>\n",
              "      <td>5.579446</td>\n",
              "      <td>-0.533156</td>\n",
              "      <td>0.000000</td>\n",
              "      <td>2.109065</td>\n",
              "      <td>-0.309917</td>\n",
              "      <td>-0.133153</td>\n",
              "      <td>0.589774</td>\n",
              "      <td>0.642974</td>\n",
              "    </tr>\n",
              "    <tr>\n",
              "      <th>2155</th>\n",
              "      <td>2020-08-06</td>\n",
              "      <td>3.488923</td>\n",
              "      <td>-1.193483</td>\n",
              "      <td>-0.033501</td>\n",
              "      <td>10.406699</td>\n",
              "      <td>0.623082</td>\n",
              "      <td>0.534082</td>\n",
              "      <td>0.307062</td>\n",
              "      <td>1.797626</td>\n",
              "      <td>0.642770</td>\n",
              "    </tr>\n",
              "    <tr>\n",
              "      <th>2156</th>\n",
              "      <td>2020-08-07</td>\n",
              "      <td>-2.449458</td>\n",
              "      <td>-1.265966</td>\n",
              "      <td>0.603217</td>\n",
              "      <td>3.087768</td>\n",
              "      <td>-1.784187</td>\n",
              "      <td>-0.919762</td>\n",
              "      <td>-2.475194</td>\n",
              "      <td>-0.373974</td>\n",
              "      <td>0.063303</td>\n",
              "    </tr>\n",
              "    <tr>\n",
              "      <th>2157</th>\n",
              "      <td>2020-08-10</td>\n",
              "      <td>1.453480</td>\n",
              "      <td>5.522880</td>\n",
              "      <td>0.599604</td>\n",
              "      <td>13.767729</td>\n",
              "      <td>-0.609323</td>\n",
              "      <td>1.720552</td>\n",
              "      <td>-2.350092</td>\n",
              "      <td>0.107728</td>\n",
              "      <td>0.274222</td>\n",
              "    </tr>\n",
              "    <tr>\n",
              "      <th>2158</th>\n",
              "      <td>2020-08-11</td>\n",
              "      <td>-2.973987</td>\n",
              "      <td>0.401316</td>\n",
              "      <td>0.000000</td>\n",
              "      <td>-0.692841</td>\n",
              "      <td>-2.143792</td>\n",
              "      <td>-0.283220</td>\n",
              "      <td>-3.114399</td>\n",
              "      <td>-1.054744</td>\n",
              "      <td>-0.796913</td>\n",
              "    </tr>\n",
              "  </tbody>\n",
              "</table>\n",
              "<p>2159 rows × 10 columns</p>\n",
              "</div>"
            ],
            "text/plain": [
              "            Date      AAPL        BA  ...       TSLA      GOOG     sp500\n",
              "0     2012-01-12  0.000000  0.000000  ...   0.000000  0.000000  0.000000\n",
              "1     2012-01-13 -0.374946 -1.205144  ... -19.327430 -0.738516 -0.494792\n",
              "2     2012-01-17  1.164812  0.857909  ...  16.717854  0.574410  0.355295\n",
              "3     2012-01-18  1.038382 -0.239234  ...   0.789470  0.688856  1.110793\n",
              "4     2012-01-19 -0.316937  0.666134  ...  -0.186494  1.052283  0.493866\n",
              "...          ...       ...       ...  ...        ...       ...       ...\n",
              "2154  2020-08-05  0.362467  5.579446  ...  -0.133153  0.589774  0.642974\n",
              "2155  2020-08-06  3.488923 -1.193483  ...   0.307062  1.797626  0.642770\n",
              "2156  2020-08-07 -2.449458 -1.265966  ...  -2.475194 -0.373974  0.063303\n",
              "2157  2020-08-10  1.453480  5.522880  ...  -2.350092  0.107728  0.274222\n",
              "2158  2020-08-11 -2.973987  0.401316  ...  -3.114399 -1.054744 -0.796913\n",
              "\n",
              "[2159 rows x 10 columns]"
            ]
          },
          "metadata": {
            "tags": []
          },
          "execution_count": 67
        }
      ]
    },
    {
      "cell_type": "code",
      "metadata": {
        "id": "h82k_tNZqhaj",
        "colab": {
          "base_uri": "https://localhost:8080/",
          "height": 297
        },
        "outputId": "f4ebcc70-aafb-477e-ca7b-8a4b2d6ed8eb"
      },
      "source": [
        "# Work out the CAPM for APPL. The market return is represented by S&P500.\n",
        "# Plot a scatter plot between the APPL the S&P500. The slope of the line is called beta and represents the volatility of the stock against the market.\n",
        "# Beta = 1.0 indicates that price of share is strongly correlated with the market. \n",
        "# Beta < 1, indicates that price of share is less volatile than the market.\n",
        "# Beta > 1, indicates that price of share is more volatile than the market\n",
        "stocks_daily_return.plot(kind = 'scatter', x = 'sp500', y = 'AAPL')"
      ],
      "execution_count": null,
      "outputs": [
        {
          "output_type": "execute_result",
          "data": {
            "text/plain": [
              "<matplotlib.axes._subplots.AxesSubplot at 0x7f71b417cda0>"
            ]
          },
          "metadata": {
            "tags": []
          },
          "execution_count": 58
        },
        {
          "output_type": "display_data",
          "data": {
            "image/png": "[encoded data removed]",
            "text/plain": [
              "<Figure size 432x288 with 1 Axes>"
            ]
          },
          "metadata": {
            "tags": [],
            "needs_background": "light"
          }
        }
      ]
    },
    {
      "cell_type": "code",
      "metadata": {
        "id": "uOh9NTR5rKAO",
        "colab": {
          "base_uri": "https://localhost:8080/",
          "height": 35
        },
        "outputId": "fafa7558-a41f-4311-f8dc-f04246f28e29"
      },
      "source": [
        "# Working out beta and alpha of the best fit line. Alpha is intersection of y axis\n",
        "\n",
        "beta, alpha = np.polyfit(stocks_daily_return['sp500'], stocks_daily_return['AAPL'], 1)\n",
        "print('Beta for {} stock is = {} and alpha is = {}'.format('AAPL', beta, alpha))  "
      ],
      "execution_count": null,
      "outputs": [
        {
          "output_type": "stream",
          "text": [
            "Beta for AAPL stock is = 1.1128924148678099 and alpha is = 0.052812084694402864\n"
          ],
          "name": "stdout"
        }
      ]
    },
    {
      "cell_type": "code",
      "metadata": {
        "id": "kLfk0fJ8sKUk",
        "colab": {
          "base_uri": "https://localhost:8080/",
          "height": 297
        },
        "outputId": "32c262d1-7cc3-4121-e756-25c4346ac2d2"
      },
      "source": [
        "stocks_daily_return.plot(kind = 'scatter', x = 'sp500', y = 'AAPL')\n",
        "\n",
        "# plotting best fit line\n",
        "plt.plot(stocks_daily_return['sp500'], beta * stocks_daily_return['sp500'] + alpha, '-', color = 'r')\n"
      ],
      "execution_count": null,
      "outputs": [
        {
          "output_type": "execute_result",
          "data": {
            "text/plain": [
              "[<matplotlib.lines.Line2D at 0x7f71b308aef0>]"
            ]
          },
          "metadata": {
            "tags": []
          },
          "execution_count": 115
        },
        {
          "output_type": "display_data",
          "data": {
            "image/png": "[encoded data removed]",
            "text/plain": [
              "<Figure size 432x288 with 1 Axes>"
            ]
          },
          "metadata": {
            "tags": [],
            "needs_background": "light"
          }
        }
      ]
    },
    {
      "cell_type": "code",
      "metadata": {
        "id": "6MZZaoXP6vvG",
        "colab": {
          "base_uri": "https://localhost:8080/",
          "height": 35
        },
        "outputId": "bf13d64e-7d48-4464-ec8f-f47359f14268"
      },
      "source": [
        "beta"
      ],
      "execution_count": null,
      "outputs": [
        {
          "output_type": "execute_result",
          "data": {
            "text/plain": [
              "1.1128924148678099"
            ]
          },
          "metadata": {
            "tags": []
          },
          "execution_count": 116
        }
      ]
    },
    {
      "cell_type": "code",
      "metadata": {
        "id": "0rVe7WxzAdRn",
        "colab": {
          "base_uri": "https://localhost:8080/",
          "height": 35
        },
        "outputId": "55630959-36c5-4ee6-9750-dad310c77e17"
      },
      "source": [
        "# Annual rate of return for S&P500 which is open 252 days a year (excluding Saturday and Sunday) \n",
        "rm = stocks_daily_return['sp500'].mean() * 252\n",
        "rm"
      ],
      "execution_count": null,
      "outputs": [
        {
          "output_type": "execute_result",
          "data": {
            "text/plain": [
              "12.42763366329808"
            ]
          },
          "metadata": {
            "tags": []
          },
          "execution_count": 118
        }
      ]
    },
    {
      "cell_type": "code",
      "metadata": {
        "id": "TG8awVE5zRL7"
      },
      "source": [
        "# Assumed risk free rate is zero\n",
        "rf = 0 \n",
        "\n",
        "# Calculate return for APPL using CAPM  \n",
        "ER_AAPL = rf + ( beta * (rm-rf) ) "
      ],
      "execution_count": null,
      "outputs": []
    },
    {
      "cell_type": "code",
      "metadata": {
        "id": "TxiWnQ7s1tlZ",
        "colab": {
          "base_uri": "https://localhost:8080/",
          "height": 35
        },
        "outputId": "156f9141-d654-4684-9743-51cbf7d988b2"
      },
      "source": [
        "ER_AAPL"
      ],
      "execution_count": null,
      "outputs": [
        {
          "output_type": "execute_result",
          "data": {
            "text/plain": [
              "13.830619238640287"
            ]
          },
          "metadata": {
            "tags": []
          },
          "execution_count": 120
        }
      ]
    }
  ]
}